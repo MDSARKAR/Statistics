{
 "cells": [
  {
   "cell_type": "code",
   "execution_count": 1,
   "id": "ff4e31b4-a728-4dd5-b8cf-9e5a61dbfbfd",
   "metadata": {},
   "outputs": [],
   "source": [
    "import math"
   ]
  },
  {
   "cell_type": "code",
   "execution_count": 3,
   "id": "a4b83649-58aa-42d2-9838-22cc506ea524",
   "metadata": {},
   "outputs": [],
   "source": [
    "def mean_calculation(number_list):\n",
    "    return sum(number_list) / len(number_list)"
   ]
  },
  {
   "cell_type": "code",
   "execution_count": 11,
   "id": "086b4e45-d16a-4851-84d1-0568c76527e0",
   "metadata": {},
   "outputs": [],
   "source": [
    "def standard_deviation(number_list, length_of_number_list):\n",
    "    summation = 0\n",
    "    for i in range(length_of_number_list):\n",
    "        summation = summation + (number_list[i] -mean_calculation(number_list))**2\n",
    "    return math.sqrt(summation/length_of_number_list)"
   ]
  },
  {
   "cell_type": "code",
   "execution_count": 5,
   "id": "e0dd23c9-843a-40ee-804a-777a96437bd5",
   "metadata": {},
   "outputs": [
    {
     "name": "stdin",
     "output_type": "stream",
     "text": [
      "Enter the size of the Input Number 4\n",
      " 1 2 3 4\n"
     ]
    }
   ],
   "source": [
    "input_number_size = int(input(\"Enter the size of the Input Number\"))\n",
    "number_list_generate = list(map(int, input().split()))"
   ]
  },
  {
   "cell_type": "code",
   "execution_count": 7,
   "id": "99599ac7-34d6-46a8-b6e8-f218e91bb98b",
   "metadata": {},
   "outputs": [
    {
     "name": "stdout",
     "output_type": "stream",
     "text": [
      "2.5\n"
     ]
    }
   ],
   "source": [
    "print(mean_calculation(number_list_generate))"
   ]
  },
  {
   "cell_type": "code",
   "execution_count": 12,
   "id": "fa5f7e56-ab70-414e-9d5d-ff7268a4586b",
   "metadata": {},
   "outputs": [
    {
     "name": "stdout",
     "output_type": "stream",
     "text": [
      "1.1\n"
     ]
    }
   ],
   "source": [
    "print(round(standard_deviation(number_list_generate, input_number_size), 1))"
   ]
  },
  {
   "cell_type": "code",
   "execution_count": null,
   "id": "0df37f83-3ac2-4ba9-967e-ca7e6b3cd89a",
   "metadata": {},
   "outputs": [],
   "source": []
  }
 ],
 "metadata": {
  "kernelspec": {
   "display_name": "Python 3 (ipykernel)",
   "language": "python",
   "name": "python3"
  },
  "language_info": {
   "codemirror_mode": {
    "name": "ipython",
    "version": 3
   },
   "file_extension": ".py",
   "mimetype": "text/x-python",
   "name": "python",
   "nbconvert_exporter": "python",
   "pygments_lexer": "ipython3",
   "version": "3.7.13"
  }
 },
 "nbformat": 4,
 "nbformat_minor": 5
}
