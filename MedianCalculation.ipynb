{
 "cells": [
  {
   "cell_type": "code",
   "execution_count": 5,
   "id": "87ebe29d-218d-4143-94c7-a2cbbb66f06e",
   "metadata": {},
   "outputs": [],
   "source": [
    "def calculateMedian(datasets):\n",
    "    #Calculate Length\n",
    "    \n",
    "    Length_of_input_numbers = len(datasets)\n",
    "    #Check enven and odd condition for middle value indexing\n",
    "    datasets_position = Length_of_input_numbers //2\n",
    "    \n",
    "    #Calculate for Odd\n",
    "    if Length_of_input_numbers %2:\n",
    "        print(\" The Median Result for Odd Samples Datasets :\", sorted(datasets)[datasets_position])\n",
    "        \n",
    "    else:\n",
    "        print(\"The Median Result for Samples Datasets :\", sum(sorted(datasets)[datasets_position - 1:datasets_position+1])/2)\n",
    "    \n",
    "    \n",
    "    "
   ]
  },
  {
   "cell_type": "code",
   "execution_count": 6,
   "id": "50409950-a5be-4450-b2e6-6b0e87a3cef1",
   "metadata": {},
   "outputs": [],
   "source": [
    "A = [1,2,3,4,6,5]"
   ]
  },
  {
   "cell_type": "code",
   "execution_count": 7,
   "id": "cfd6b6d5-22be-4642-97d1-719886fe0b6c",
   "metadata": {},
   "outputs": [
    {
     "name": "stdout",
     "output_type": "stream",
     "text": [
      "The Median Result for Samples Datasets : 3.5\n"
     ]
    }
   ],
   "source": [
    "calculateMedian(A)"
   ]
  },
  {
   "cell_type": "code",
   "execution_count": null,
   "id": "3694b25e-999b-4102-9df6-96146bace6a9",
   "metadata": {},
   "outputs": [],
   "source": []
  }
 ],
 "metadata": {
  "kernelspec": {
   "display_name": "Python 3 (ipykernel)",
   "language": "python",
   "name": "python3"
  },
  "language_info": {
   "codemirror_mode": {
    "name": "ipython",
    "version": 3
   },
   "file_extension": ".py",
   "mimetype": "text/x-python",
   "name": "python",
   "nbconvert_exporter": "python",
   "pygments_lexer": "ipython3",
   "version": "3.9.7"
  }
 },
 "nbformat": 4,
 "nbformat_minor": 5
}
