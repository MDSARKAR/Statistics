{
 "cells": [
  {
   "cell_type": "code",
   "execution_count": 11,
   "id": "5abc3cf7-ac63-4529-b65d-53160758d822",
   "metadata": {},
   "outputs": [],
   "source": [
    "def median_Calculation(length_of_numbers, numbers):\n",
    "    if length_of_numbers % 2 == 0:\n",
    "        median = (numbers[int(length_of_numbers/2) -1] + numbers[int(length_of_numbers/2)])/2\n",
    "    else: \n",
    "        median = numbers[int(length_of_numbers/2)]\n",
    "    return median"
   ]
  },
  {
   "cell_type": "code",
   "execution_count": 6,
   "id": "7649f6c2-e084-43bf-a863-05d3b886f60f",
   "metadata": {},
   "outputs": [
    {
     "name": "stdin",
     "output_type": "stream",
     "text": [
      "Enter the size of the Input Number 10\n",
      " 1 5 8 2 3 4 6 7 9 10\n"
     ]
    }
   ],
   "source": [
    "input_number_size = int(input(\"Enter the size of the Input Number\"))\n",
    "number_list_generate = list(map(int, input().split()))\n",
    "\n",
    "sorted_number_list_generate = sorted(number_list_generate)\n"
   ]
  },
  {
   "cell_type": "code",
   "execution_count": 7,
   "id": "f5a41bce-ef3f-4be8-90dd-3a7d3201e8c6",
   "metadata": {},
   "outputs": [
    {
     "name": "stdout",
     "output_type": "stream",
     "text": [
      "unsorted list:  [1, 5, 8, 2, 3, 4, 6, 7, 9, 10]\n",
      "sorted list:  [1, 2, 3, 4, 5, 6, 7, 8, 9, 10]\n"
     ]
    }
   ],
   "source": [
    "print(\"unsorted list: \", number_list_generate)\n",
    "print(\"sorted list: \", sorted_number_list_generate)"
   ]
  },
  {
   "cell_type": "code",
   "execution_count": 8,
   "id": "eef6e593-0460-4cf3-b062-50bf730da3a8",
   "metadata": {},
   "outputs": [],
   "source": [
    "if input_number_size%2 ==0:\n",
    "    minimum_data = sorted_number_list_generate[0:int(input_number_size/2)]\n",
    "    maximum_data = sorted_number_list_generate[int(input_number_size/2) : input_number_size]\n",
    "else:\n",
    "    minimum_data = sorted_number_list_generate[0:int(input_number_size/2)]\n",
    "    maximum_data = sorted_number_list_generate[int(input_number_size/2) +1 : input_number_size]"
   ]
  },
  {
   "cell_type": "code",
   "execution_count": 12,
   "id": "b01f1521-3897-4b9c-b84c-ed4aedf1f752",
   "metadata": {},
   "outputs": [
    {
     "name": "stdout",
     "output_type": "stream",
     "text": [
      "Median for Minimun is:  3\n",
      "Median for full number sets is:  5.5\n",
      "Median for Maximum is :  8\n"
     ]
    }
   ],
   "source": [
    "print(\"Median for Minimun is: \", median_Calculation(len(minimum_data), minimum_data))\n",
    "print(\"Median for full number sets is: \", median_Calculation(input_number_size, sorted_number_list_generate))\n",
    "print(\"Median for Maximum is : \", median_Calculation(len(maximum_data),maximum_data))"
   ]
  },
  {
   "cell_type": "code",
   "execution_count": null,
   "id": "bcd68fd8-f570-4ee9-8c74-8f097dff1ad6",
   "metadata": {},
   "outputs": [],
   "source": []
  }
 ],
 "metadata": {
  "kernelspec": {
   "display_name": "Python 3 (ipykernel)",
   "language": "python",
   "name": "python3"
  },
  "language_info": {
   "codemirror_mode": {
    "name": "ipython",
    "version": 3
   },
   "file_extension": ".py",
   "mimetype": "text/x-python",
   "name": "python",
   "nbconvert_exporter": "python",
   "pygments_lexer": "ipython3",
   "version": "3.7.13"
  }
 },
 "nbformat": 4,
 "nbformat_minor": 5
}
