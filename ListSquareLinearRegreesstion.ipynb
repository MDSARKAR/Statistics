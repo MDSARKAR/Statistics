{
 "cells": [
  {
   "cell_type": "code",
   "execution_count": 1,
   "id": "8be3493a-5c8d-4fbb-a0fe-74e39af6e4c2",
   "metadata": {},
   "outputs": [],
   "source": [
    "import statistics as st"
   ]
  },
  {
   "cell_type": "code",
   "execution_count": 2,
   "id": "aeae1a01-1798-4e4b-84c6-2bf829ff1593",
   "metadata": {},
   "outputs": [
    {
     "name": "stdin",
     "output_type": "stream",
     "text": [
      " 5\n",
      " 12 35 65 45 88\n",
      " 8 55 69 74 25\n"
     ]
    }
   ],
   "source": [
    "input_numbers = int(input())\n",
    "\n",
    "input_x_data = list(map(float, input().split())) #dtype, input_spliting\n",
    "input_y_data = list(map(float, input().split()))"
   ]
  },
  {
   "cell_type": "code",
   "execution_count": 3,
   "id": "378b1bbc-efff-45a9-b7f1-f5d29df3272c",
   "metadata": {},
   "outputs": [
    {
     "name": "stdout",
     "output_type": "stream",
     "text": [
      "Numbers length:  5\n",
      "X Datasets is:  [12.0, 35.0, 65.0, 45.0, 88.0]\n",
      "Y datasets is :  [8.0, 55.0, 69.0, 74.0, 25.0]\n"
     ]
    }
   ],
   "source": [
    "print(\"Numbers length: \", input_numbers)\n",
    "print(\"X Datasets is: \", input_x_data)\n",
    "print(\"Y datasets is : \", input_y_data)"
   ]
  },
  {
   "cell_type": "code",
   "execution_count": 7,
   "id": "e5bee632-4f92-4f33-bef0-199716a6defa",
   "metadata": {},
   "outputs": [
    {
     "name": "stdout",
     "output_type": "stream",
     "text": [
      "51.282\n"
     ]
    }
   ],
   "source": [
    "mean_x_data = st.mean(input_x_data)\n",
    "mean_y_data = st.mean(input_y_data)\n",
    "\n",
    "x_squared = sum([input_x_data[i]**2 for i in range (input_numbers)])\n",
    "x_multiplication_y = sum(input_x_data[i] * input_y_data[i] for i in range(input_numbers))\n",
    "\n",
    "region_a = (input_numbers * x_multiplication_y - sum(input_x_data) * sum(input_y_data)) /(input_numbers * x_squared - (sum(input_x_data)**2))\n",
    "\n",
    "region_b = mean_y_data - region_a*mean_y_data\n",
    "print(round(region_b + 70*region_a, 3))"
   ]
  },
  {
   "cell_type": "code",
   "execution_count": null,
   "id": "d83dc87f-b108-4466-a6fc-d995b2faf83f",
   "metadata": {},
   "outputs": [],
   "source": []
  }
 ],
 "metadata": {
  "kernelspec": {
   "display_name": "Python 3 (ipykernel)",
   "language": "python",
   "name": "python3"
  },
  "language_info": {
   "codemirror_mode": {
    "name": "ipython",
    "version": 3
   },
   "file_extension": ".py",
   "mimetype": "text/x-python",
   "name": "python",
   "nbconvert_exporter": "python",
   "pygments_lexer": "ipython3",
   "version": "3.9.7"
  }
 },
 "nbformat": 4,
 "nbformat_minor": 5
}
