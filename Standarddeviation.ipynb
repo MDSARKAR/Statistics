{
 "cells": [
  {
   "cell_type": "code",
   "execution_count": 1,
   "id": "e9613789-4cf9-464b-ac6a-5053b1470f1d",
   "metadata": {},
   "outputs": [],
   "source": [
    "import math\n",
    "import numpy as np"
   ]
  },
  {
   "cell_type": "code",
   "execution_count": 2,
   "id": "cc2f8b9a-3384-4c3e-b398-eb4f914c5d29",
   "metadata": {},
   "outputs": [],
   "source": [
    "# ddof > Delta Degree of Freedom\n",
    "def calculateVariance(datasets, ddof = 0):\n",
    "    \n",
    "    total_number_of_sample = len(datasets)\n",
    "    meanCalculation = sum(datasets) / total_number_of_sample\n",
    "    \n",
    "    return sum((eachData - meanCalculation)**2 for eachData in datasets) / (total_number_of_sample - ddof)\n",
    "    "
   ]
  },
  {
   "cell_type": "code",
   "execution_count": 4,
   "id": "785ac815-42c3-47fc-817c-e3d9b932a87a",
   "metadata": {},
   "outputs": [],
   "source": [
    "def calculateStandardDeviation(datasets):\n",
    "    # Step 01: calculate Variance\n",
    "    #It will store this Value  \" return sum(( eachData -meanCalculation)**2 for each\n",
    "    variance = calculateVariance(datasets)\n",
    "    #Step 02: Calculate Standard Deviation\n",
    "    standardDeviation = np.sqrt(variance)\n",
    "    #Step 03: Return standard Deviation Values\n",
    "    \n",
    "    print(\"The Value of Variance is : \", variance)\n",
    "    print(\"The of Standard Deviation is : \", standardDeviation)\n",
    "    #return standardDeviation "
   ]
  },
  {
   "cell_type": "code",
   "execution_count": 5,
   "id": "8c4f45f3-c031-44e9-ae44-9a44b5a99d54",
   "metadata": {},
   "outputs": [],
   "source": [
    "datasets = list(np.random.randint(100, size = 100))"
   ]
  },
  {
   "cell_type": "code",
   "execution_count": 6,
   "id": "52ebc082-7d02-4889-a6e2-1ed671c39ddf",
   "metadata": {},
   "outputs": [
    {
     "name": "stdout",
     "output_type": "stream",
     "text": [
      "[58, 50, 23, 45, 64, 95, 30, 29, 79, 38, 57, 29, 6, 20, 19, 60, 98, 92, 71, 70, 3, 6, 30, 36, 17, 97, 58, 90, 12, 40, 8, 63, 85, 97, 73, 0, 47, 64, 28, 91, 4, 18, 87, 92, 76, 15, 7, 95, 21, 99, 7, 19, 25, 62, 65, 7, 9, 50, 78, 89, 18, 92, 21, 62, 52, 30, 91, 57, 47, 47, 18, 16, 13, 52, 25, 74, 0, 66, 48, 31, 93, 82, 71, 93, 10, 94, 14, 5, 99, 99, 38, 21, 72, 12, 6, 56, 93, 44, 1, 71]\n"
     ]
    }
   ],
   "source": [
    "print(datasets)"
   ]
  },
  {
   "cell_type": "code",
   "execution_count": 7,
   "id": "a90920ae-2a0f-4ec1-8914-f71c23471753",
   "metadata": {},
   "outputs": [
    {
     "name": "stdout",
     "output_type": "stream",
     "text": [
      "The Value of Variance is :  1010.7131000000003\n",
      "The of Standard Deviation is :  31.79171432936576\n"
     ]
    }
   ],
   "source": [
    "calculateStandardDeviation(datasets)"
   ]
  },
  {
   "cell_type": "code",
   "execution_count": 11,
   "id": "cee13d8e-eefb-4a97-943c-05fc4ecaa243",
   "metadata": {},
   "outputs": [],
   "source": [
    "li = [4,4,5,7,7,8,9,9,3]"
   ]
  },
  {
   "cell_type": "code",
   "execution_count": 12,
   "id": "824ce629-87db-4575-9d7e-c152c88ee444",
   "metadata": {},
   "outputs": [
    {
     "name": "stdout",
     "output_type": "stream",
     "text": [
      "The Value of Variance is :  1010.7131000000003\n",
      "The of Standard Deviation is :  31.79171432936576\n"
     ]
    }
   ],
   "source": [
    "calculateStandardDeviation(datasets)"
   ]
  },
  {
   "cell_type": "code",
   "execution_count": null,
   "id": "0b194558-2782-4b6b-ae76-8c71459f6a59",
   "metadata": {},
   "outputs": [],
   "source": []
  }
 ],
 "metadata": {
  "kernelspec": {
   "display_name": "Python 3 (ipykernel)",
   "language": "python",
   "name": "python3"
  },
  "language_info": {
   "codemirror_mode": {
    "name": "ipython",
    "version": 3
   },
   "file_extension": ".py",
   "mimetype": "text/x-python",
   "name": "python",
   "nbconvert_exporter": "python",
   "pygments_lexer": "ipython3",
   "version": "3.9.7"
  }
 },
 "nbformat": 4,
 "nbformat_minor": 5
}
