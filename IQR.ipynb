{
 "cells": [
  {
   "cell_type": "code",
   "execution_count": 1,
   "id": "a2b82fab-cc06-491f-aa82-e856c0de9d4e",
   "metadata": {},
   "outputs": [],
   "source": [
    "def median_calculation(number_size,numbers):\n",
    "    if number_size %2 == 0:\n",
    "        median = (numbers[int(number_size/2)-1]+ numbers[int(number_size/2)]) /2\n",
    "    else:\n",
    "        median = float(numbers[int(number_size/2)])\n",
    "    return median"
   ]
  },
  {
   "cell_type": "code",
   "execution_count": 3,
   "id": "6691d1e6-4ab7-4713-a04b-d72f3916fbb1",
   "metadata": {},
   "outputs": [
    {
     "name": "stdin",
     "output_type": "stream",
     "text": [
      "Enter the number of size: 10\n",
      " 1 22 55 44 7 5 8 9 3 4\n",
      " 1  2  3  4  5 6 7 8 9 10\n"
     ]
    }
   ],
   "source": [
    "number_size = int(input(\"Enter the number of size:\"))\n",
    "numbers = list(map(int, input().split()))\n",
    "nuber_frequency = list(map(int, input().split())) "
   ]
  },
  {
   "cell_type": "code",
   "execution_count": 5,
   "id": "8acf19ab-697f-47f7-91ea-da6d1ac19dbb",
   "metadata": {},
   "outputs": [
    {
     "name": "stdout",
     "output_type": "stream",
     "text": [
      "Size of the Numbers  10\n",
      " Numbers :  [1, 22, 55, 44, 7, 5, 8, 9, 3, 4]\n",
      "Numbers Frequency:  [1, 2, 3, 4, 5, 6, 7, 8, 9, 10]\n"
     ]
    }
   ],
   "source": [
    "print(\"Size of the Numbers \", number_size)\n",
    "print(\" Numbers : \", numbers)\n",
    "print(\"Numbers Frequency: \", nuber_frequency)"
   ]
  },
  {
   "cell_type": "code",
   "execution_count": 7,
   "id": "530784f5-368d-4d66-8ef0-4d6158d5b1d8",
   "metadata": {},
   "outputs": [],
   "source": [
    "sorted_Numbers = []\n",
    "for i in range (len(numbers)):\n",
    "    for j in range(nuber_frequency[i]):\n",
    "        sorted_Numbers.append(numbers[i])\n",
    "        \n",
    "sorted_Numbers = sorted(sorted_Numbers)"
   ]
  },
  {
   "cell_type": "code",
   "execution_count": 8,
   "id": "dca02710-5947-40a7-b8ac-e453775a2cee",
   "metadata": {},
   "outputs": [
    {
     "name": "stdout",
     "output_type": "stream",
     "text": [
      "Sorted Numbers is  [1, 3, 3, 3, 3, 3, 3, 3, 3, 3, 4, 4, 4, 4, 4, 4, 4, 4, 4, 4, 5, 5, 5, 5, 5, 5, 7, 7, 7, 7, 7, 8, 8, 8, 8, 8, 8, 8, 9, 9, 9, 9, 9, 9, 9, 9, 22, 22, 44, 44, 44, 44, 55, 55, 55]\n"
     ]
    }
   ],
   "source": [
    "print(\"Sorted Numbers is \", sorted_Numbers)"
   ]
  },
  {
   "cell_type": "code",
   "execution_count": 11,
   "id": "38fe7eb5-c383-480c-a5a3-35c95f58546a",
   "metadata": {},
   "outputs": [],
   "source": [
    "sorted_numbers_size = int(len(sorted_Numbers))\n",
    "if sorted_numbers_size %2==0:\n",
    "    \n",
    "    minimum_data = sorted_Numbers[0:int(sorted_numbers_size/2)]\n",
    "    maximum_data = sorted_Numbers[0:int(sorted_numbers_size/2): sorted_number_size]\n",
    "\n",
    "else:\n",
    "    minimum_data = sorted_Numbers[0:int(sorted_numbers_size/2)]\n",
    "    maximum_data = sorted_Numbers[int(sorted_numbers_size/2) +1 : sorted_numbers_size]\n",
    "    "
   ]
  },
  {
   "cell_type": "code",
   "execution_count": 14,
   "id": "5dabbd14-b19f-430d-8ba9-dbaf36d542aa",
   "metadata": {},
   "outputs": [],
   "source": [
    "maximum_value = median_calculation(len(maximum_data), maximum_data)\n",
    "minimum_value = median_calculation(len(minimum_data), minimum_data)"
   ]
  },
  {
   "cell_type": "code",
   "execution_count": null,
   "id": "1aba7401-fb41-4c63-a37c-ae3e97e057b3",
   "metadata": {},
   "outputs": [],
   "source": []
  }
 ],
 "metadata": {
  "kernelspec": {
   "display_name": "Python 3 (ipykernel)",
   "language": "python",
   "name": "python3"
  },
  "language_info": {
   "codemirror_mode": {
    "name": "ipython",
    "version": 3
   },
   "file_extension": ".py",
   "mimetype": "text/x-python",
   "name": "python",
   "nbconvert_exporter": "python",
   "pygments_lexer": "ipython3",
   "version": "3.7.13"
  }
 },
 "nbformat": 4,
 "nbformat_minor": 5
}
