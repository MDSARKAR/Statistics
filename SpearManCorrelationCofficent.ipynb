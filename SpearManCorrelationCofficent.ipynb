{
 "cells": [
  {
   "cell_type": "code",
   "execution_count": 6,
   "id": "9c53bda6-3a5d-4cad-a568-2b4cb7ea2192",
   "metadata": {},
   "outputs": [],
   "source": [
    "def ranking(dataPoints):\n",
    "    rankData = {}\n",
    "    sortData = sorted (dataPoints)\n",
    "    \n",
    "    for i in range(len(dataPoints)):\n",
    "        for j in range(len(sortData)):\n",
    "            if dataPoints[i] == sortData[j]:\n",
    "                rankData[dataPoints[i]] = j+1\n",
    "    return rankData\n"
   ]
  },
  {
   "cell_type": "code",
   "execution_count": 10,
   "id": "c3b840ea-5818-48b2-8c35-d03bdaf0c2ee",
   "metadata": {},
   "outputs": [],
   "source": [
    "def spearmanFormula(x_data, y_data, relation_x, relation_y, numbers):\n",
    "    difference_ranking = 0\n",
    "    for i in range(numbers):\n",
    "        if relation_x[x_data[i]] != relation_y[y_data[i]]:\n",
    "            difference_ranking = difference_ranking + ((relation_x[x_data[i]] - relation_y[y_data[i]])**2)\n",
    "    \n",
    "    return (6* difference_ranking) / (numbers**3 - numbers)"
   ]
  },
  {
   "cell_type": "code",
   "execution_count": 3,
   "id": "6a03785a-1238-4942-8fc7-666b06345d97",
   "metadata": {},
   "outputs": [
    {
     "name": "stdin",
     "output_type": "stream",
     "text": [
      " 10\n",
      " 1 4 3 6 7 9 8 2 4 6 \n",
      " 1 2 3 4 5 6 7 8 9 10\n"
     ]
    }
   ],
   "source": [
    "input_numbers = int(float(input()))\n",
    "\n",
    "input_x_data = list(map(float, input().split())) #dtype, input_spliting\n",
    "input_y_data = list(map(float, input().split()))"
   ]
  },
  {
   "cell_type": "code",
   "execution_count": 8,
   "id": "203e180d-a749-447f-90b3-98b444abefd6",
   "metadata": {},
   "outputs": [],
   "source": [
    "ranking_x_data = ranking(input_x_data)\n",
    "ranking_y_data = ranking(input_y_data)"
   ]
  },
  {
   "cell_type": "code",
   "execution_count": 11,
   "id": "80be08c7-c4b1-44f0-8930-2ed253efd343",
   "metadata": {},
   "outputs": [],
   "source": [
    "spearman = spearmanFormula(input_x_data, input_y_data, ranking_x_data, ranking_y_data, input_numbers)"
   ]
  },
  {
   "cell_type": "code",
   "execution_count": 12,
   "id": "abdba6a6-add3-4fe0-9483-b0083be1963b",
   "metadata": {},
   "outputs": [
    {
     "name": "stdout",
     "output_type": "stream",
     "text": [
      "0.345\n"
     ]
    }
   ],
   "source": [
    "print(round(1 -spearman, 3))"
   ]
  },
  {
   "cell_type": "code",
   "execution_count": null,
   "id": "d624c071-5d72-4a6a-bfbd-bdc6b50e4caa",
   "metadata": {},
   "outputs": [],
   "source": []
  }
 ],
 "metadata": {
  "kernelspec": {
   "display_name": "Python 3 (ipykernel)",
   "language": "python",
   "name": "python3"
  },
  "language_info": {
   "codemirror_mode": {
    "name": "ipython",
    "version": 3
   },
   "file_extension": ".py",
   "mimetype": "text/x-python",
   "name": "python",
   "nbconvert_exporter": "python",
   "pygments_lexer": "ipython3",
   "version": "3.7.13"
  }
 },
 "nbformat": 4,
 "nbformat_minor": 5
}
