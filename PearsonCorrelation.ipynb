{
 "cells": [
  {
   "cell_type": "code",
   "execution_count": 1,
   "id": "c104c1ee-b433-46e7-8061-d3a16d4704ac",
   "metadata": {},
   "outputs": [
    {
     "name": "stdout",
     "output_type": "stream",
     "text": [
      "Correlaton values is :  0.893323064452464\n",
      "P Values is :  8.176844511613317e-36\n"
     ]
    }
   ],
   "source": [
    "import numpy as np\n",
    "from scipy.stats import pearsonr\n",
    "\n",
    "input_numbers = 100\n",
    "x_datasets = np.random.normal(size = input_numbers)\n",
    "y_datasets = 2 * x_datasets + np.random.normal(size = input_numbers)\n",
    "\n",
    "correlation, p_value = pearsonr(x_datasets, y_datasets)\n",
    "\n",
    "print(\"Correlaton values is : \", correlation)\n",
    "print(\"P Values is : \", p_value)"
   ]
  },
  {
   "cell_type": "code",
   "execution_count": null,
   "id": "917c844b-7a8f-4fec-9a22-d34a2944a298",
   "metadata": {},
   "outputs": [],
   "source": []
  }
 ],
 "metadata": {
  "kernelspec": {
   "display_name": "Python 3 (ipykernel)",
   "language": "python",
   "name": "python3"
  },
  "language_info": {
   "codemirror_mode": {
    "name": "ipython",
    "version": 3
   },
   "file_extension": ".py",
   "mimetype": "text/x-python",
   "name": "python",
   "nbconvert_exporter": "python",
   "pygments_lexer": "ipython3",
   "version": "3.7.13"
  }
 },
 "nbformat": 4,
 "nbformat_minor": 5
}
