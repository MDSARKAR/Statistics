{
 "cells": [
  {
   "cell_type": "code",
   "execution_count": 9,
   "id": "95a58059-8105-46f0-9227-1dd4b17da4d6",
   "metadata": {},
   "outputs": [],
   "source": [
    "# Module Import\n",
    "import numpy as np\n",
    "from scipy import stats\n",
    "# from scipy import stats as st"
   ]
  },
  {
   "cell_type": "code",
   "execution_count": 6,
   "id": "78c18094-9ec3-4835-b7a9-04fcf0b4b750",
   "metadata": {},
   "outputs": [
    {
     "name": "stdin",
     "output_type": "stream",
     "text": [
      "Enter the size of the Input Number 10\n",
      " 1 2 2 3 4 5 5 5 8 9\n"
     ]
    }
   ],
   "source": [
    "input_number_size = int(input(\"Enter the size of the Input Number\"))\n",
    "number_list_generate = list(map(int, input().split()))"
   ]
  },
  {
   "cell_type": "code",
   "execution_count": 7,
   "id": "a2f6d464-ccf5-4c9f-a4a0-052c4ba14d95",
   "metadata": {},
   "outputs": [
    {
     "data": {
      "text/plain": [
       "[1, 2, 2, 3, 4, 5, 5, 5, 8, 9]"
      ]
     },
     "execution_count": 7,
     "metadata": {},
     "output_type": "execute_result"
    }
   ],
   "source": [
    "number_list_generate"
   ]
  },
  {
   "cell_type": "code",
   "execution_count": 10,
   "id": "18e038a6-5c63-4a82-a172-1fcc578cd559",
   "metadata": {},
   "outputs": [
    {
     "name": "stdout",
     "output_type": "stream",
     "text": [
      "Mean Value is: 4.4\n",
      "Median Value is: 4.5\n",
      "Mode Value is: 5\n"
     ]
    }
   ],
   "source": [
    "print(\"Mean Value is:\", np.mean(number_list_generate))\n",
    "print(\"Median Value is:\", np.median(number_list_generate))\n",
    "print(\"Mode Value is:\", int(stats.mode(number_list_generate)[0]))"
   ]
  },
  {
   "cell_type": "code",
   "execution_count": null,
   "id": "22f22b3f-75e6-473c-83cc-99d3a6884b0e",
   "metadata": {},
   "outputs": [],
   "source": []
  }
 ],
 "metadata": {
  "kernelspec": {
   "display_name": "Python 3 (ipykernel)",
   "language": "python",
   "name": "python3"
  },
  "language_info": {
   "codemirror_mode": {
    "name": "ipython",
    "version": 3
   },
   "file_extension": ".py",
   "mimetype": "text/x-python",
   "name": "python",
   "nbconvert_exporter": "python",
   "pygments_lexer": "ipython3",
   "version": "3.7.13"
  }
 },
 "nbformat": 4,
 "nbformat_minor": 5
}
