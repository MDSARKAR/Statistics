{
 "cells": [
  {
   "cell_type": "code",
   "execution_count": 1,
   "id": "5653e82d-da37-4974-a0d9-908cea58dcfd",
   "metadata": {},
   "outputs": [
    {
     "name": "stdin",
     "output_type": "stream",
     "text": [
      "Enter the size of the input number 10\n",
      " 1 5 6 7 2 3 1 4 5 9\n",
      " 2 1 3 2 8 4 2 1 9 1\n"
     ]
    }
   ],
   "source": [
    "input_number_size = int(input(\"Enter the size of the input number\"))\n",
    "number_list_generate = list(map(int,input().split()))\n",
    "weight_list_generate = list(map(int,input().split()))"
   ]
  },
  {
   "cell_type": "code",
   "execution_count": 3,
   "id": "1b8245f5-64d1-4ed6-ac51-b768909deae7",
   "metadata": {},
   "outputs": [
    {
     "name": "stdout",
     "output_type": "stream",
     "text": [
      "Number list:  [1, 5, 6, 7, 2, 3, 1, 4, 5, 9]\n",
      "Weight list:  [2, 1, 3, 2, 8, 4, 2, 1, 9, 1]\n"
     ]
    }
   ],
   "source": [
    "print(\"Number list: \", number_list_generate)\n",
    "print(\"Weight list: \",weight_list_generate)"
   ]
  },
  {
   "cell_type": "code",
   "execution_count": 5,
   "id": "c357405a-cfa2-4ae7-8463-4615d44d1317",
   "metadata": {},
   "outputs": [],
   "source": [
    "summation_of_total_items = 0\n",
    "for i in range(input_number_size):\n",
    "    summation_of_total_items = summation_of_total_items + (number_list_generate[i] *weight_list_generate[i])\n",
    "    "
   ]
  },
  {
   "cell_type": "code",
   "execution_count": 6,
   "id": "7ab5fa42-8139-46c8-97bc-0d637e643024",
   "metadata": {},
   "outputs": [
    {
     "name": "stdout",
     "output_type": "stream",
     "text": [
      "3.8\n"
     ]
    }
   ],
   "source": [
    "print(round(summation_of_total_items / sum(weight_list_generate), 1))"
   ]
  },
  {
   "cell_type": "code",
   "execution_count": null,
   "id": "537934e1-4833-4cc6-91be-03fe6c662808",
   "metadata": {},
   "outputs": [],
   "source": [
    "# for i in range(10):\n",
    "# print("
   ]
  }
 ],
 "metadata": {
  "kernelspec": {
   "display_name": "Python 3 (ipykernel)",
   "language": "python",
   "name": "python3"
  },
  "language_info": {
   "codemirror_mode": {
    "name": "ipython",
    "version": 3
   },
   "file_extension": ".py",
   "mimetype": "text/x-python",
   "name": "python",
   "nbconvert_exporter": "python",
   "pygments_lexer": "ipython3",
   "version": "3.7.13"
  }
 },
 "nbformat": 4,
 "nbformat_minor": 5
}
